{
 "cells": [
  {
   "cell_type": "code",
   "execution_count": 1,
   "metadata": {},
   "outputs": [],
   "source": [
    "import requests"
   ]
  },
  {
   "cell_type": "code",
   "execution_count": 2,
   "metadata": {},
   "outputs": [],
   "source": [
    "#PART 1\n",
    "def fetch_probe_list():\n",
    "  #Function to return list of active Starlink Probes\n",
    "  starlink_probe_list = []\n",
    "  api_endpoint = \"https://atlas.ripe.net/api/v2/probes/?asn_v4=14593&status=1\"\n",
    "\n",
    "  params = {\n",
    "      \"asn_v4\": 14593,  #Starlink ASN number\n",
    "      \"status\": 1       #Connected Probes\n",
    "  }\n",
    "\n",
    "  response = requests.get(api_endpoint, params=params)\n",
    "  json_data = response.json()\n",
    "\n",
    "  for probe in json_data[\"results\"]:\n",
    "    starlink_probe_list.append(probe[\"id\"])\n",
    "\n",
    "  print(\"Number of Probes: \", len(starlink_probe_list))\n",
    "  return starlink_probe_list"
   ]
  },
  {
   "cell_type": "code",
   "execution_count": 3,
   "metadata": {},
   "outputs": [
    {
     "name": "stdout",
     "output_type": "stream",
     "text": [
      "Number of Probes:  56\n"
     ]
    },
    {
     "data": {
      "text/plain": [
       "[28,\n",
       " 10743,\n",
       " 10920,\n",
       " 13040,\n",
       " 17979,\n",
       " 19983,\n",
       " 20544,\n",
       " 22802,\n",
       " 23127,\n",
       " 24742,\n",
       " 26696,\n",
       " 26834,\n",
       " 28221,\n",
       " 35042,\n",
       " 35681,\n",
       " 35751,\n",
       " 50017,\n",
       " 52422,\n",
       " 52918,\n",
       " 52955,\n",
       " 53798,\n",
       " 54330,\n",
       " 55492,\n",
       " 60323,\n",
       " 60510,\n",
       " 60929,\n",
       " 61081,\n",
       " 61113,\n",
       " 61241,\n",
       " 61366,\n",
       " 61532,\n",
       " 61537,\n",
       " 61731,\n",
       " 61780,\n",
       " 61878,\n",
       " 61899,\n",
       " 62083,\n",
       " 62365,\n",
       " 62417,\n",
       " 62498,\n",
       " 62553,\n",
       " 62613,\n",
       " 62741,\n",
       " 62843,\n",
       " 62868,\n",
       " 63017,\n",
       " 1001747,\n",
       " 1002750,\n",
       " 1003131,\n",
       " 1004232,\n",
       " 1004453,\n",
       " 1004876,\n",
       " 1004978,\n",
       " 1005561,\n",
       " 1005623,\n",
       " 1005627]"
      ]
     },
     "execution_count": 3,
     "metadata": {},
     "output_type": "execute_result"
    }
   ],
   "source": [
    "fetch_probe_list()"
   ]
  },
  {
   "cell_type": "code",
   "execution_count": null,
   "metadata": {},
   "outputs": [],
   "source": []
  },
  {
   "attachments": {},
   "cell_type": "markdown",
   "metadata": {},
   "source": [
    "## Credit Calculation\n",
    "It costs 1 credits per ping measurement (1 packets of 48 octets). We have 56 active probes connected to Starlink. If we measure every minutes for an entire day, that is 4*24 = 96 measurements. 1 * 56 * 96 = 5376 credits"
   ]
  },
  {
   "cell_type": "markdown",
   "metadata": {},
   "source": []
  }
 ],
 "metadata": {
  "kernelspec": {
   "display_name": "venv",
   "language": "python",
   "name": "python3"
  },
  "language_info": {
   "codemirror_mode": {
    "name": "ipython",
    "version": 3
   },
   "file_extension": ".py",
   "mimetype": "text/x-python",
   "name": "python",
   "nbconvert_exporter": "python",
   "pygments_lexer": "ipython3",
   "version": "3.7.6"
  },
  "orig_nbformat": 4
 },
 "nbformat": 4,
 "nbformat_minor": 2
}
