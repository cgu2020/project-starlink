{
 "cells": [
  {
   "cell_type": "code",
   "execution_count": 4,
   "metadata": {},
   "outputs": [],
   "source": [
    "import requests"
   ]
  },
  {
   "cell_type": "code",
   "execution_count": 5,
   "metadata": {},
   "outputs": [],
   "source": [
    "#PART 1\n",
    "def fetch_probe_list():\n",
    "  #Function to return list of active Starlink Probes\n",
    "  starlink_probe_list = []\n",
    "  api_endpoint = \"https://atlas.ripe.net/api/v2/probes/?asn_v4=14593&status=1\"\n",
    "\n",
    "  params = {\n",
    "      \"asn_v4\": 14593,  #Starlink ASN number\n",
    "      \"status\": 1       #Connected Probes\n",
    "  }\n",
    "\n",
    "  response = requests.get(api_endpoint, params=params)\n",
    "  json_data = response.json()\n",
    "\n",
    "  for probe in json_data[\"results\"]:\n",
    "    starlink_probe_list.append({\"id\": probe[\"id\"], \"country_code\": probe[\"country_code\"]})\n",
    "\n",
    "  print(\"Number of Probes: \", len(starlink_probe_list))\n",
    "  return starlink_probe_list"
   ]
  },
  {
   "cell_type": "code",
   "execution_count": 6,
   "metadata": {},
   "outputs": [
    {
     "name": "stdout",
     "output_type": "stream",
     "text": [
      "Number of Probes:  56\n"
     ]
    },
    {
     "data": {
      "text/plain": [
       "[{'id': 28, 'country_code': 'US'},\n",
       " {'id': 10743, 'country_code': 'US'},\n",
       " {'id': 10920, 'country_code': 'DE'},\n",
       " {'id': 13040, 'country_code': 'FR'},\n",
       " {'id': 17979, 'country_code': 'GB'},\n",
       " {'id': 19983, 'country_code': 'AU'},\n",
       " {'id': 20544, 'country_code': 'PL'},\n",
       " {'id': 22802, 'country_code': 'US'},\n",
       " {'id': 23127, 'country_code': 'US'},\n",
       " {'id': 24742, 'country_code': 'AU'},\n",
       " {'id': 26696, 'country_code': 'FR'},\n",
       " {'id': 26834, 'country_code': 'CL'},\n",
       " {'id': 28221, 'country_code': 'US'},\n",
       " {'id': 35042, 'country_code': 'CA'},\n",
       " {'id': 35681, 'country_code': 'AT'},\n",
       " {'id': 35751, 'country_code': 'GB'},\n",
       " {'id': 50017, 'country_code': 'US'},\n",
       " {'id': 52422, 'country_code': 'US'},\n",
       " {'id': 52918, 'country_code': 'AU'},\n",
       " {'id': 52955, 'country_code': 'NZ'},\n",
       " {'id': 53798, 'country_code': 'US'},\n",
       " {'id': 54330, 'country_code': 'US'},\n",
       " {'id': 55492, 'country_code': 'CA'},\n",
       " {'id': 60323, 'country_code': 'DE'},\n",
       " {'id': 60510, 'country_code': 'CA'},\n",
       " {'id': 60929, 'country_code': 'US'},\n",
       " {'id': 61081, 'country_code': 'US'},\n",
       " {'id': 61113, 'country_code': 'US'},\n",
       " {'id': 61241, 'country_code': 'FR'},\n",
       " {'id': 61366, 'country_code': 'GB'},\n",
       " {'id': 61532, 'country_code': 'US'},\n",
       " {'id': 61537, 'country_code': 'US'},\n",
       " {'id': 61731, 'country_code': 'US'},\n",
       " {'id': 61780, 'country_code': 'US'},\n",
       " {'id': 61878, 'country_code': 'GB'},\n",
       " {'id': 61899, 'country_code': 'US'},\n",
       " {'id': 62083, 'country_code': 'US'},\n",
       " {'id': 62365, 'country_code': 'US'},\n",
       " {'id': 62417, 'country_code': 'US'},\n",
       " {'id': 62498, 'country_code': 'US'},\n",
       " {'id': 62553, 'country_code': 'US'},\n",
       " {'id': 62613, 'country_code': 'US'},\n",
       " {'id': 62741, 'country_code': 'US'},\n",
       " {'id': 62843, 'country_code': 'FR'},\n",
       " {'id': 62868, 'country_code': 'US'},\n",
       " {'id': 63017, 'country_code': 'US'},\n",
       " {'id': 1001747, 'country_code': 'DE'},\n",
       " {'id': 1002750, 'country_code': 'DE'},\n",
       " {'id': 1003131, 'country_code': 'BE'},\n",
       " {'id': 1004232, 'country_code': 'US'},\n",
       " {'id': 1004453, 'country_code': 'AU'},\n",
       " {'id': 1004876, 'country_code': 'IT'},\n",
       " {'id': 1004978, 'country_code': 'IT'},\n",
       " {'id': 1005561, 'country_code': 'GB'},\n",
       " {'id': 1005623, 'country_code': 'CZ'},\n",
       " {'id': 1005627, 'country_code': 'HT'}]"
      ]
     },
     "execution_count": 6,
     "metadata": {},
     "output_type": "execute_result"
    }
   ],
   "source": [
    "fetch_probe_list()"
   ]
  },
  {
   "attachments": {},
   "cell_type": "markdown",
   "metadata": {},
   "source": [
    "## Credit Calculation\n",
    "It costs 1 credits per ping measurement (1 packets of 48 octets). We have 56 active probes connected to Starlink. If we measure every minutes for an entire day, that is 4*24 = 96 measurements. 1 * 56 * 96 = 5376 credits"
   ]
  },
  {
   "cell_type": "markdown",
   "metadata": {},
   "source": []
  },
  {
   "cell_type": "code",
   "execution_count": 12,
   "metadata": {},
   "outputs": [],
   "source": [
    "definitions = {\n",
    "    \"definitions\": [\n",
    "      {\n",
    "        \"type\": \"ping\",\n",
    "        \"target\": \"google.com\",\n",
    "        \"af\": 4,\n",
    "        \"description\": \"pingtest\",\n",
    "        \"is_oneoff\": \"true\",\n",
    "      }\n",
    "    ],\n",
    "    \"probes\" : [\n",
    "      {\"requested\": 1,\n",
    "       \"type\": \"probes\",\n",
    "       \"value\": \"10920\"\n",
    "      }\n",
    "    ]\n",
    "}\n",
    "\n",
    "def create_measurement(defs):\n",
    "    api_endpoint = \"https://atlas.ripe.net/api/v2/measurements\"\n",
    "    params={\"key\": '1721b7b6-100f-48b0-ad03-e2b6c95fb978'}\n",
    "\n",
    "    x = requests.post(api_endpoint, json = defs, params=params)\n",
    "    json_data = x.json()\n",
    "    return json_data\n",
    "\n"
   ]
  },
  {
   "cell_type": "code",
   "execution_count": 13,
   "metadata": {},
   "outputs": [
    {
     "data": {
      "text/plain": [
       "{'measurements': [52727092]}"
      ]
     },
     "execution_count": 13,
     "metadata": {},
     "output_type": "execute_result"
    }
   ],
   "source": [
    "create_measurement(definitions)"
   ]
  },
  {
   "cell_type": "code",
   "execution_count": 14,
   "metadata": {},
   "outputs": [],
   "source": [
    "def get_results(id):\n",
    "    api_endpoint = \"https://atlas.ripe.net/api/v2/measurements/\" + id + \"/results\"\n",
    "    x = requests.get(api_endpoint)\n",
    "    json_data = x.json()\n",
    "    return json_data"
   ]
  },
  {
   "cell_type": "code",
   "execution_count": 15,
   "metadata": {},
   "outputs": [
    {
     "data": {
      "text/plain": [
       "[{'fw': 5080,\n",
       "  'mver': '2.6.2',\n",
       "  'lts': 6,\n",
       "  'dst_name': '142.250.179.206',\n",
       "  'af': 4,\n",
       "  'dst_addr': '142.250.179.206',\n",
       "  'src_addr': '192.168.10.88',\n",
       "  'proto': 'ICMP',\n",
       "  'ttl': 113,\n",
       "  'size': 64,\n",
       "  'result': [{'rtt': 34.045007}, {'rtt': 40.057548}, {'rtt': 41.63382}],\n",
       "  'dup': 0,\n",
       "  'rcvd': 3,\n",
       "  'sent': 3,\n",
       "  'min': 34.045007,\n",
       "  'max': 41.63382,\n",
       "  'avg': 38.5787916667,\n",
       "  'msm_id': 52727092,\n",
       "  'prb_id': 10920,\n",
       "  'timestamp': 1682631567,\n",
       "  'msm_name': 'Ping',\n",
       "  'from': '145.224.73.88',\n",
       "  'type': 'ping',\n",
       "  'group_id': 52727092,\n",
       "  'step': None,\n",
       "  'stored_timestamp': 1682631567},\n",
       " {'fw': 5080,\n",
       "  'mver': '2.6.2',\n",
       "  'lts': 9,\n",
       "  'dst_name': '142.250.179.206',\n",
       "  'af': 4,\n",
       "  'dst_addr': '142.250.179.206',\n",
       "  'src_addr': '192.168.1.110',\n",
       "  'proto': 'ICMP',\n",
       "  'ttl': 58,\n",
       "  'size': 64,\n",
       "  'result': [{'rtt': 52.819345}, {'rtt': 44.352708}, {'rtt': 43.667051}],\n",
       "  'dup': 0,\n",
       "  'rcvd': 3,\n",
       "  'sent': 3,\n",
       "  'min': 43.667051,\n",
       "  'max': 52.819345,\n",
       "  'avg': 46.946368,\n",
       "  'msm_id': 52727092,\n",
       "  'prb_id': 13040,\n",
       "  'timestamp': 1682631566,\n",
       "  'msm_name': 'Ping',\n",
       "  'from': '145.224.77.249',\n",
       "  'type': 'ping',\n",
       "  'group_id': 52727092,\n",
       "  'step': None,\n",
       "  'stored_timestamp': 1682631567},\n",
       " {'fw': 5080,\n",
       "  'mver': '2.6.2',\n",
       "  'lts': 35,\n",
       "  'dst_name': '142.250.179.206',\n",
       "  'af': 4,\n",
       "  'dst_addr': '142.250.179.206',\n",
       "  'src_addr': '192.168.1.4',\n",
       "  'proto': 'ICMP',\n",
       "  'ttl': 115,\n",
       "  'size': 64,\n",
       "  'result': [{'rtt': 64.189621}, {'rtt': 62.726175}, {'rtt': 49.65832}],\n",
       "  'dup': 0,\n",
       "  'rcvd': 3,\n",
       "  'sent': 3,\n",
       "  'min': 49.65832,\n",
       "  'max': 64.189621,\n",
       "  'avg': 58.8580386667,\n",
       "  'msm_id': 52727092,\n",
       "  'prb_id': 17979,\n",
       "  'timestamp': 1682631565,\n",
       "  'msm_name': 'Ping',\n",
       "  'from': '145.224.66.190',\n",
       "  'type': 'ping',\n",
       "  'group_id': 52727092,\n",
       "  'step': None,\n",
       "  'stored_timestamp': 1682631566}]"
      ]
     },
     "execution_count": 15,
     "metadata": {},
     "output_type": "execute_result"
    }
   ],
   "source": [
    "get_results(1)"
   ]
  },
  {
   "cell_type": "code",
   "execution_count": null,
   "metadata": {},
   "outputs": [],
   "source": []
  }
 ],
 "metadata": {
  "kernelspec": {
   "display_name": "venv",
   "language": "python",
   "name": "python3"
  },
  "language_info": {
   "codemirror_mode": {
    "name": "ipython",
    "version": 3
   },
   "file_extension": ".py",
   "mimetype": "text/x-python",
   "name": "python",
   "nbconvert_exporter": "python",
   "pygments_lexer": "ipython3",
   "version": "3.10.10"
  },
  "orig_nbformat": 4
 },
 "nbformat": 4,
 "nbformat_minor": 2
}
