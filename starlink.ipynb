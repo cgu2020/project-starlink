{
 "cells": [
  {
   "cell_type": "code",
   "execution_count": 16,
   "metadata": {},
   "outputs": [],
   "source": [
    "import time\n",
    "import requests"
   ]
  },
  {
   "cell_type": "code",
   "execution_count": 3,
   "metadata": {},
   "outputs": [],
   "source": [
    "#PART 1\n",
    "def fetch_probe_list():\n",
    "  #Function to return list of active Starlink Probes\n",
    "  starlink_probe_list = []\n",
    "  api_endpoint = \"https://atlas.ripe.net/api/v2/probes/?asn_v4=14593&status=1\"\n",
    "\n",
    "  params = {\n",
    "      \"asn_v4\": 14593,  #Starlink ASN number\n",
    "      \"status\": 1       #Connected Probes\n",
    "  }\n",
    "\n",
    "  response = requests.get(api_endpoint, params=params)\n",
    "  json_data = response.json()\n",
    "\n",
    "  for probe in json_data[\"results\"]:\n",
    "    starlink_probe_list.append({\"id\": probe[\"id\"], \"country_code\": probe[\"country_code\"]})\n",
    "\n",
    "  print(\"Number of Probes: \", len(starlink_probe_list))\n",
    "  return starlink_probe_list"
   ]
  },
  {
   "cell_type": "code",
   "execution_count": 5,
   "metadata": {},
   "outputs": [
    {
     "name": "stdout",
     "output_type": "stream",
     "text": [
      "Number of Probes:  56\n",
      "[{'id': 28, 'country_code': 'US'}, {'id': 10743, 'country_code': 'US'}, {'id': 10920, 'country_code': 'DE'}, {'id': 13040, 'country_code': 'FR'}, {'id': 17979, 'country_code': 'GB'}, {'id': 19983, 'country_code': 'AU'}, {'id': 20544, 'country_code': 'PL'}, {'id': 22802, 'country_code': 'US'}, {'id': 23127, 'country_code': 'US'}, {'id': 24742, 'country_code': 'AU'}, {'id': 26696, 'country_code': 'FR'}, {'id': 26834, 'country_code': 'CL'}, {'id': 28221, 'country_code': 'US'}, {'id': 35042, 'country_code': 'CA'}, {'id': 35681, 'country_code': 'AT'}, {'id': 35751, 'country_code': 'GB'}, {'id': 50017, 'country_code': 'US'}, {'id': 52422, 'country_code': 'US'}, {'id': 52918, 'country_code': 'AU'}, {'id': 52955, 'country_code': 'NZ'}, {'id': 53798, 'country_code': 'US'}, {'id': 54330, 'country_code': 'US'}, {'id': 55492, 'country_code': 'CA'}, {'id': 60323, 'country_code': 'DE'}, {'id': 60510, 'country_code': 'CA'}, {'id': 60929, 'country_code': 'US'}, {'id': 61081, 'country_code': 'US'}, {'id': 61113, 'country_code': 'US'}, {'id': 61241, 'country_code': 'FR'}, {'id': 61366, 'country_code': 'GB'}, {'id': 61532, 'country_code': 'US'}, {'id': 61537, 'country_code': 'US'}, {'id': 61731, 'country_code': 'US'}, {'id': 61780, 'country_code': 'US'}, {'id': 61878, 'country_code': 'GB'}, {'id': 61899, 'country_code': 'US'}, {'id': 62083, 'country_code': 'US'}, {'id': 62365, 'country_code': 'US'}, {'id': 62417, 'country_code': 'US'}, {'id': 62498, 'country_code': 'US'}, {'id': 62553, 'country_code': 'US'}, {'id': 62613, 'country_code': 'US'}, {'id': 62741, 'country_code': 'US'}, {'id': 62843, 'country_code': 'FR'}, {'id': 62868, 'country_code': 'US'}, {'id': 63017, 'country_code': 'US'}, {'id': 1001747, 'country_code': 'DE'}, {'id': 1002750, 'country_code': 'DE'}, {'id': 1003131, 'country_code': 'BE'}, {'id': 1004232, 'country_code': 'US'}, {'id': 1004453, 'country_code': 'AU'}, {'id': 1004876, 'country_code': 'IT'}, {'id': 1004978, 'country_code': 'IT'}, {'id': 1005561, 'country_code': 'GB'}, {'id': 1005623, 'country_code': 'CZ'}, {'id': 1005627, 'country_code': 'HT'}]\n"
     ]
    }
   ],
   "source": [
    "probes = fetch_probe_list()\n",
    "print(probes)"
   ]
  },
  {
   "cell_type": "code",
   "execution_count": 10,
   "metadata": {},
   "outputs": [
    {
     "name": "stdout",
     "output_type": "stream",
     "text": [
      "[{'id': 35681, 'country_code': 'AT'}, {'id': 19983, 'country_code': 'AU'}, {'id': 24742, 'country_code': 'AU'}, {'id': 52918, 'country_code': 'AU'}, {'id': 1004453, 'country_code': 'AU'}, {'id': 1003131, 'country_code': 'BE'}, {'id': 35042, 'country_code': 'CA'}, {'id': 55492, 'country_code': 'CA'}, {'id': 60510, 'country_code': 'CA'}, {'id': 26834, 'country_code': 'CL'}, {'id': 1005623, 'country_code': 'CZ'}, {'id': 10920, 'country_code': 'DE'}, {'id': 60323, 'country_code': 'DE'}, {'id': 1001747, 'country_code': 'DE'}, {'id': 1002750, 'country_code': 'DE'}, {'id': 13040, 'country_code': 'FR'}, {'id': 26696, 'country_code': 'FR'}, {'id': 61241, 'country_code': 'FR'}, {'id': 62843, 'country_code': 'FR'}, {'id': 17979, 'country_code': 'GB'}, {'id': 35751, 'country_code': 'GB'}, {'id': 61366, 'country_code': 'GB'}, {'id': 61878, 'country_code': 'GB'}, {'id': 1005561, 'country_code': 'GB'}, {'id': 1005627, 'country_code': 'HT'}, {'id': 1004876, 'country_code': 'IT'}, {'id': 1004978, 'country_code': 'IT'}, {'id': 52955, 'country_code': 'NZ'}, {'id': 20544, 'country_code': 'PL'}, {'id': 28, 'country_code': 'US'}, {'id': 10743, 'country_code': 'US'}, {'id': 22802, 'country_code': 'US'}, {'id': 23127, 'country_code': 'US'}, {'id': 28221, 'country_code': 'US'}, {'id': 50017, 'country_code': 'US'}, {'id': 52422, 'country_code': 'US'}, {'id': 53798, 'country_code': 'US'}, {'id': 54330, 'country_code': 'US'}, {'id': 60929, 'country_code': 'US'}, {'id': 61081, 'country_code': 'US'}, {'id': 61113, 'country_code': 'US'}, {'id': 61532, 'country_code': 'US'}, {'id': 61537, 'country_code': 'US'}, {'id': 61731, 'country_code': 'US'}, {'id': 61780, 'country_code': 'US'}, {'id': 61899, 'country_code': 'US'}, {'id': 62083, 'country_code': 'US'}, {'id': 62365, 'country_code': 'US'}, {'id': 62417, 'country_code': 'US'}, {'id': 62498, 'country_code': 'US'}, {'id': 62553, 'country_code': 'US'}, {'id': 62613, 'country_code': 'US'}, {'id': 62741, 'country_code': 'US'}, {'id': 62868, 'country_code': 'US'}, {'id': 63017, 'country_code': 'US'}, {'id': 1004232, 'country_code': 'US'}]\n",
      "[35681, 19983, 1003131, 35042, 26834, 1005623, 10920, 13040, 17979, 1005627, 1004876, 52955, 20544, 28]\n",
      "['AT', 'AU', 'BE', 'CA', 'CL', 'CZ', 'DE', 'FR', 'GB', 'HT', 'IT', 'NZ', 'PL', 'US']\n"
     ]
    }
   ],
   "source": [
    "probes.sort(key= lambda a: a['country_code'])\n",
    "print(probes)\n",
    "\n",
    "countries = []\n",
    "probe_list = []\n",
    "for probe in probes:\n",
    "    if probe['country_code'] not in countries:\n",
    "        probe_list.append(probe['id'])\n",
    "        countries.append(probe['country_code'])\n",
    "print(probe_list)\n",
    "print(countries)"
   ]
  },
  {
   "attachments": {},
   "cell_type": "markdown",
   "metadata": {},
   "source": [
    "## Credit Calculation\n",
    "It costs 1 credits per ping measurement (1 packets of 48 octets). We have 56 active probes connected to Starlink. If we measure every minutes for an entire day, that is 4*24 = 96 measurements. 1 * 56 * 96 = 5376 credits"
   ]
  },
  {
   "cell_type": "markdown",
   "metadata": {},
   "source": []
  },
  {
   "cell_type": "code",
   "execution_count": 30,
   "metadata": {},
   "outputs": [],
   "source": [
    "cur_time = time.time()\n",
    "\n",
    "\n",
    "definitions = {\n",
    "    \"definitions\": [\n",
    "      {\n",
    "        \"type\": \"ping\",\n",
    "        \"target\": \"google.com\",\n",
    "        \"af\": 4,\n",
    "        \"description\": \"test trial\",\n",
    "        \"start_time\": cur_time + 300,\n",
    "        \"end_time\": cur_time + 86700,\n",
    "        \"interval\": 900,\n",
    "      }\n",
    "    ],\n",
    "    \"probes\" : [\n",
    "      {\"requested\": 1,\n",
    "       \"type\": \"probes\",\n",
    "       \"value\": \"1005623\"\n",
    "      }\n",
    "    ]\n",
    "}\n",
    "\n",
    "def create_measurement(defs):\n",
    "    api_endpoint = \"https://atlas.ripe.net/api/v2/measurements\"\n",
    "    params={\"key\": '1721b7b6-100f-48b0-ad03-e2b6c95fb978'}\n",
    "\n",
    "    x = requests.post(api_endpoint, json = defs, params=params)\n",
    "    json_data = x.json()\n",
    "    return json_data\n",
    "\n"
   ]
  },
  {
   "cell_type": "code",
   "execution_count": 31,
   "metadata": {},
   "outputs": [
    {
     "data": {
      "text/plain": [
       "{'error': {'detail': 'There was a problem with your request',\n",
       "  'status': 400,\n",
       "  'title': 'Bad Request',\n",
       "  'code': 102,\n",
       "  'errors': [{'source': {'pointer': ''},\n",
       "    'detail': 'We do not allow more than 25 concurrent measurements to the same target: google.com.'}]}}"
      ]
     },
     "execution_count": 31,
     "metadata": {},
     "output_type": "execute_result"
    }
   ],
   "source": [
    "create_measurement(definitions)"
   ]
  },
  {
   "cell_type": "code",
   "execution_count": 14,
   "metadata": {},
   "outputs": [],
   "source": [
    "def get_results(id):\n",
    "    api_endpoint = \"https://atlas.ripe.net/api/v2/measurements/\" + id + \"/results\"\n",
    "    x = requests.get(api_endpoint)\n",
    "    json_data = x.json()\n",
    "    return json_data"
   ]
  },
  {
   "cell_type": "code",
   "execution_count": 15,
   "metadata": {},
   "outputs": [
    {
     "data": {
      "text/plain": [
       "[{'fw': 5080,\n",
       "  'mver': '2.6.2',\n",
       "  'lts': 6,\n",
       "  'dst_name': '142.250.179.206',\n",
       "  'af': 4,\n",
       "  'dst_addr': '142.250.179.206',\n",
       "  'src_addr': '192.168.10.88',\n",
       "  'proto': 'ICMP',\n",
       "  'ttl': 113,\n",
       "  'size': 64,\n",
       "  'result': [{'rtt': 34.045007}, {'rtt': 40.057548}, {'rtt': 41.63382}],\n",
       "  'dup': 0,\n",
       "  'rcvd': 3,\n",
       "  'sent': 3,\n",
       "  'min': 34.045007,\n",
       "  'max': 41.63382,\n",
       "  'avg': 38.5787916667,\n",
       "  'msm_id': 52727092,\n",
       "  'prb_id': 10920,\n",
       "  'timestamp': 1682631567,\n",
       "  'msm_name': 'Ping',\n",
       "  'from': '145.224.73.88',\n",
       "  'type': 'ping',\n",
       "  'group_id': 52727092,\n",
       "  'step': None,\n",
       "  'stored_timestamp': 1682631567},\n",
       " {'fw': 5080,\n",
       "  'mver': '2.6.2',\n",
       "  'lts': 9,\n",
       "  'dst_name': '142.250.179.206',\n",
       "  'af': 4,\n",
       "  'dst_addr': '142.250.179.206',\n",
       "  'src_addr': '192.168.1.110',\n",
       "  'proto': 'ICMP',\n",
       "  'ttl': 58,\n",
       "  'size': 64,\n",
       "  'result': [{'rtt': 52.819345}, {'rtt': 44.352708}, {'rtt': 43.667051}],\n",
       "  'dup': 0,\n",
       "  'rcvd': 3,\n",
       "  'sent': 3,\n",
       "  'min': 43.667051,\n",
       "  'max': 52.819345,\n",
       "  'avg': 46.946368,\n",
       "  'msm_id': 52727092,\n",
       "  'prb_id': 13040,\n",
       "  'timestamp': 1682631566,\n",
       "  'msm_name': 'Ping',\n",
       "  'from': '145.224.77.249',\n",
       "  'type': 'ping',\n",
       "  'group_id': 52727092,\n",
       "  'step': None,\n",
       "  'stored_timestamp': 1682631567},\n",
       " {'fw': 5080,\n",
       "  'mver': '2.6.2',\n",
       "  'lts': 35,\n",
       "  'dst_name': '142.250.179.206',\n",
       "  'af': 4,\n",
       "  'dst_addr': '142.250.179.206',\n",
       "  'src_addr': '192.168.1.4',\n",
       "  'proto': 'ICMP',\n",
       "  'ttl': 115,\n",
       "  'size': 64,\n",
       "  'result': [{'rtt': 64.189621}, {'rtt': 62.726175}, {'rtt': 49.65832}],\n",
       "  'dup': 0,\n",
       "  'rcvd': 3,\n",
       "  'sent': 3,\n",
       "  'min': 49.65832,\n",
       "  'max': 64.189621,\n",
       "  'avg': 58.8580386667,\n",
       "  'msm_id': 52727092,\n",
       "  'prb_id': 17979,\n",
       "  'timestamp': 1682631565,\n",
       "  'msm_name': 'Ping',\n",
       "  'from': '145.224.66.190',\n",
       "  'type': 'ping',\n",
       "  'group_id': 52727092,\n",
       "  'step': None,\n",
       "  'stored_timestamp': 1682631566}]"
      ]
     },
     "execution_count": 15,
     "metadata": {},
     "output_type": "execute_result"
    }
   ],
   "source": [
    "get_results(1)"
   ]
  },
  {
   "cell_type": "code",
   "execution_count": 30,
   "metadata": {},
   "outputs": [
    {
     "data": {
      "text/plain": [
       "1682633345.662287"
      ]
     },
     "execution_count": 30,
     "metadata": {},
     "output_type": "execute_result"
    }
   ],
   "source": [
    "time.time() "
   ]
  },
  {
   "cell_type": "code",
   "execution_count": null,
   "metadata": {},
   "outputs": [],
   "source": []
  },
  {
   "cell_type": "code",
   "execution_count": null,
   "metadata": {},
   "outputs": [],
   "source": []
  }
 ],
 "metadata": {
  "kernelspec": {
   "display_name": "venv",
   "language": "python",
   "name": "python3"
  },
  "language_info": {
   "codemirror_mode": {
    "name": "ipython",
    "version": 3
   },
   "file_extension": ".py",
   "mimetype": "text/x-python",
   "name": "python",
   "nbconvert_exporter": "python",
   "pygments_lexer": "ipython3",
   "version": "3.7.6"
  },
  "orig_nbformat": 4
 },
 "nbformat": 4,
 "nbformat_minor": 2
}
